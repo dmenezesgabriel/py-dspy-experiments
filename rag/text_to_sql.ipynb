{
 "cells": [
  {
   "cell_type": "code",
   "execution_count": 1,
   "metadata": {},
   "outputs": [
    {
     "name": "stderr",
     "output_type": "stream",
     "text": [
      "/home/gabriel/Documents/repos/py-dspy-experiments/rag/venv/lib/python3.11/site-packages/tqdm/auto.py:21: TqdmWarning: IProgress not found. Please update jupyter and ipywidgets. See https://ipywidgets.readthedocs.io/en/stable/user_install.html\n",
      "  from .autonotebook import tqdm as notebook_tqdm\n"
     ]
    },
    {
     "data": {
      "text/plain": [
       "True"
      ]
     },
     "execution_count": 1,
     "metadata": {},
     "output_type": "execute_result"
    }
   ],
   "source": [
    "from dotenv import load_dotenv\n",
    "import dspy\n",
    "import chromadb\n",
    "import chromadb.utils.embedding_functions as embedding_functions\n",
    "from dspy.retrieve.chromadb_rm import ChromadbRM\n",
    "import os\n",
    "import uuid\n",
    "import pandas as pd\n",
    "import sqlite3\n",
    "\n",
    "load_dotenv(\"../.env\")"
   ]
  },
  {
   "cell_type": "code",
   "execution_count": 2,
   "metadata": {},
   "outputs": [],
   "source": [
    "turbo = dspy.OpenAI(model=\"gpt-3.5-turbo\")"
   ]
  },
  {
   "cell_type": "code",
   "execution_count": 3,
   "metadata": {},
   "outputs": [],
   "source": [
    "CHROMADB_DATA = \"./chromadb_data\"\n",
    "\n",
    "openai_ef = embedding_functions.OpenAIEmbeddingFunction(\n",
    "    api_key=os.getenv(\"OPENAI_API_KEY\"), model_name=\"text-embedding-3-small\"\n",
    ")\n",
    "\n",
    "chroma_client = chromadb.PersistentClient(\n",
    "    path=CHROMADB_DATA,\n",
    ")\n",
    "\n",
    "# if collection does not exist create it\n",
    "collection = chroma_client.get_or_create_collection(\n",
    "    name=\"datasets_info\", embedding_function=openai_ef\n",
    ")"
   ]
  },
  {
   "cell_type": "code",
   "execution_count": 4,
   "metadata": {},
   "outputs": [],
   "source": [
    "def split_text(text: str, chunks: int, overlap: int):\n",
    "    return [\n",
    "        text[i : i + chunks - overlap]\n",
    "        for i in range(0, len(text), chunks - overlap)\n",
    "    ]"
   ]
  },
  {
   "cell_type": "code",
   "execution_count": 5,
   "metadata": {},
   "outputs": [],
   "source": [
    "with open(\"./data/schema.sql\") as f:\n",
    "    schema = f.read()\n",
    "\n",
    "docs = split_text(schema, 1000, 300)\n",
    "ids = [uuid.uuid4().hex for _ in range(len(docs))]\n",
    "\n",
    "collection.add(\n",
    "    ids=ids, documents=docs, metadatas=[{\"name\": \"sql schema\"}] * len(docs)\n",
    ")\n",
    "\n",
    "rm = ChromadbRM(\n",
    "    collection_name=\"datasets_info\",\n",
    "    persist_directory=CHROMADB_DATA,\n",
    "    embedding_function=openai_ef,\n",
    ")"
   ]
  },
  {
   "cell_type": "code",
   "execution_count": 6,
   "metadata": {},
   "outputs": [
    {
     "name": "stdout",
     "output_type": "stream",
     "text": [
      "[{'id': '10299b7e4a8942919323593d718ef4d9', 'score': 1.3780223629133594, 'long_text': 'BEGIN TRANSACTION;\\nCREATE TABLE [Album]\\n(\\n    [AlbumId] INTEGER  NOT NULL,\\n    [Title] NVARCHAR(160)  NOT NULL,\\n    [ArtistId] INTEGER  NOT NULL,\\n    CONSTRAINT [PK_Album] PRIMARY KEY  ([AlbumId]),\\n    FOREIGN KEY ([ArtistId]) REFERENCES [Artist] ([ArtistId]) \\n\\t\\tON DELETE NO ACTION ON UPDATE NO ACTION\\n);\\nCREATE TABLE [Artist]\\n(\\n    [ArtistId] INTEGER  NOT NULL,\\n    [Name] NVARCHAR(120),\\n    CONSTRAINT [PK_Artist] PRIMARY KEY  ([ArtistId])\\n);\\nCREATE TABLE [Customer]\\n(\\n    [CustomerId] INTEGER  NOT NULL,\\n    [FirstName] NVARCHAR(40)  NOT NULL,\\n    [LastName] NVARCHAR(20)  NOT NULL,\\n    [Company] NVARCHAR(80),\\n    [Address] NVARCHAR(70),\\n    [City] NVARCHAR(40),\\n    [State] NVARCHAR(40),\\n    [C', 'metadatas': {'name': 'sql schema'}}, {'id': '6b612a7509184b618cfc15d0a04aca35', 'score': 1.412078388951942, 'long_text': 'BEGIN TRANSACTION;\\nCREATE TABLE [Album]\\n(\\n    [AlbumId] INTEGER  NOT NULL,\\n    [Title] NVARCHAR(160)  NOT NULL,\\n    [ArtistId] INTEGER  NOT NULL,\\n    CONSTRAINT [PK_Album] PRIMARY KEY  ([AlbumId]),\\n    FOREIGN KEY ([ArtistId]) REFERENCES [Artist] ([ArtistId]) \\n\\t\\tON DELETE NO ACTION ON UPDATE NO ACTION\\n);\\nCREATE TABLE [Artist]\\n(\\n    [ArtistId] INTEGER  NOT NULL,\\n    [Name] NVARCHAR(120),\\n    CONSTRAINT [PK_Artist] PRIMARY KEY  ([ArtistId])\\n);\\nCREATE TABLE [Customer]\\n(\\n    [CustomerId] INTEGER  NOT NULL,\\n    [FirstName] NVARCHAR(40)  NOT NULL,\\n    [LastName] NVARCHAR(20)  NOT NULL,\\n    [Company] NVARCHAR(80),\\n    [Address] NVARCHAR(70),\\n    [City] NVARCHAR(40),\\n    [State] NVARCHAR(40),\\n    [Country] NVARCHAR(40),\\n    [PostalCode] NVARCHAR(10),\\n    [Phone] NVARCHAR(24),\\n    [Fax] NVARCHAR(24),\\n    [Email] NVARCHAR(60)  NOT NULL,\\n    [SupportRepId] INTEGER,\\n    CONSTRAINT [PK_Customer] PRIM', 'metadatas': {'name': 'sql schema'}}, {'id': 'd70f1a082e1543f1a8a304e9b052bdec', 'score': 1.5275410226108772, 'long_text': 'umArtistId] ON [Album] ([ArtistId]);\\nCREATE INDEX [IFK_CustomerSupportRepId] ON [Customer] ([SupportRepId]);\\nCREATE INDEX [IFK_EmployeeReportsTo] ON [Employee] ([ReportsTo]);\\nCREATE INDEX [IFK_InvoiceCustomerId] ON [Invoice] ([CustomerId]);\\nCREATE INDEX [IFK_InvoiceLineInvoiceId] ON [InvoiceLine] ([InvoiceId]);\\nCREATE INDEX [IFK_InvoiceLineTrackId] ON [InvoiceLine] ([TrackId]);\\nCREATE INDEX [IFK_PlaylistTrackTrackId] ON [PlaylistTrack] ([TrackId]);\\nCREATE INDEX [IFK_TrackAlbumId] ON [Track] ([AlbumId]);\\nCREATE INDEX [IFK_TrackGenreId] ON [Track] ([GenreId]);\\nCREATE INDEX [IFK_TrackMediaTypeId] ON [Track] ([MediaTypeId]);\\nCOMMIT;\\n', 'metadatas': {'name': 'sql schema'}}, {'id': '65d7513e53e7482d8cf82ae5aaa409e7', 'score': 1.5853703208949266, 'long_text': 'mId] INTEGER,\\n    [MediaTypeId] INTEGER  NOT NULL,\\n    [GenreId] INTEGER,\\n    [Composer] NVARCHAR(220),\\n    [Milliseconds] INTEGER  NOT NULL,\\n    [Bytes] INTEGER,\\n    [UnitPrice] NUMERIC(10,2)  NOT NULL,\\n    CONSTRAINT [PK_Track] PRIMARY KEY  ([TrackId]),\\n    FOREIGN KEY ([AlbumId]) REFERENCES [Album] ([AlbumId]) \\n\\t\\tON DELETE NO ACTION ON UPDATE NO ACTION,\\n    FOREIGN KEY ([GenreId]) REFERENCES [Genre] ([GenreId]) \\n\\t\\tON DELETE NO ACTION ON UPDATE NO ACTION,\\n    FOREIGN KEY ([MediaTypeId]) REFERENCES [MediaType] ([MediaTypeId]) \\n\\t\\tON DELETE NO ACTION ON UPDATE NO ACTION\\n);\\nCREATE INDEX [IFK_AlbumArtistId] ON [Album] ([ArtistId]);\\nCREATE INDEX [IFK_CustomerSupportRepId] ON [Customer] ([SupportRepId]);\\nCREATE INDEX [IFK_EmployeeReportsTo] ON [Employee] ([ReportsTo]);\\nCREATE INDEX [IFK_InvoiceCustomerId] ON [Invoice] ([CustomerId]);\\nCREATE INDEX [IFK_InvoiceLineInvoiceId] ON [InvoiceLine] ([', 'metadatas': {'name': 'sql schema'}}, {'id': '314f7f7ab3644b63808a3ea52ce19487', 'score': 1.6130490480580852, 'long_text': 'REATE TABLE [Track]\\n(\\n    [TrackId] INTEGER  NOT NULL,\\n    [Name] NVARCHAR(200)  NOT NULL,\\n    [AlbumId] INTEGER,\\n    [MediaTypeId] INTEGER  NOT NULL,\\n    [GenreId] INTEGER,\\n    [Composer] NVARCHAR(220),\\n    [Milliseconds] INTEGER  NOT NULL,\\n    [Bytes] INTEGER,\\n    [UnitPrice] NUMERIC(10,2)  NOT NULL,\\n    CONSTRAINT [PK_Track] PRIMARY KEY  ([TrackId]),\\n    FOREIGN KEY ([AlbumId]) REFERENCES [Album] ([AlbumId]) \\n\\t\\tON DELETE NO ACTION ON UPDATE NO ACTION,\\n    FOREIGN KEY ([GenreId]) REFERENCES [Genre] ([GenreId]) \\n\\t\\tON DELETE NO ACTION ON UPDATE NO ACTION,\\n    FOREIGN KEY ([MediaTypeId]) REFERENCES [MediaType] ([MediaTypeId]) \\n\\t\\tON DELETE NO ACTION ON UPDATE NO ACTION\\n);\\nCREATE INDEX [IFK_Alb', 'metadatas': {'name': 'sql schema'}}, {'id': '9f12369c75f54bc28969bbdfa41135d5', 'score': 1.6337557354945846, 'long_text': 'TION\\n);\\nCREATE TABLE [MediaType]\\n(\\n    [MediaTypeId] INTEGER  NOT NULL,\\n    [Name] NVARCHAR(120),\\n    CONSTRAINT [PK_MediaType] PRIMARY KEY  ([MediaTypeId])\\n);\\nCREATE TABLE [Playlist]\\n(\\n    [PlaylistId] INTEGER  NOT NULL,\\n    [Name] NVARCHAR(120),\\n    CONSTRAINT [PK_Playlist] PRIMARY KEY  ([PlaylistId])\\n);\\nCREATE TABLE [PlaylistTrack]\\n(\\n    [PlaylistId] INTEGER  NOT NULL,\\n    [TrackId] INTEGER  NOT NULL,\\n    CONSTRAINT [PK_PlaylistTrack] PRIMARY KEY  ([PlaylistId], [TrackId]),\\n    FOREIGN KEY ([PlaylistId]) REFERENCES [Playlist] ([PlaylistId]) \\n\\t\\tON DELETE NO ACTION ON UPDATE NO ACTION,\\n    FOREIGN KEY ([TrackId]) REFERENCES [Track] ([TrackId]) \\n\\t\\tON DELETE NO ACTION ON UPDATE NO ACTION\\n);\\nC', 'metadatas': {'name': 'sql schema'}}, {'id': '56c9d4a0d9cb4abca19a983fdfe0dc9a', 'score': 1.6637154699088927, 'long_text': 'InvoiceId]);\\nCREATE INDEX [IFK_InvoiceLineTrackId] ON [InvoiceLine] ([TrackId]);\\nCREATE INDEX [IFK_PlaylistTrackTrackId] ON [PlaylistTrack] ([TrackId]);\\nCREATE INDEX [IFK_TrackAlbumId] ON [Track] ([AlbumId]);\\nCREATE INDEX [IFK_TrackGenreId] ON [Track] ([GenreId]);\\nCREATE INDEX [IFK_TrackMediaTypeId] ON [Track] ([MediaTypeId]);\\nCOMMIT;\\n', 'metadatas': {'name': 'sql schema'}}]\n"
     ]
    }
   ],
   "source": [
    "print(rm(\"Artists\"))"
   ]
  },
  {
   "cell_type": "code",
   "execution_count": 41,
   "metadata": {},
   "outputs": [],
   "source": [
    "class TextToSQLAnswer(dspy.Signature):\n",
    "    \"\"\"Convert natural language text to SQL the using a database schema.\"\"\"\n",
    "\n",
    "    question: str = dspy.InputField()\n",
    "    context: str = dspy.InputField()\n",
    "    sql: str = dspy.OutputField(desc=\"sql string, no code fences or premeable\")"
   ]
  },
  {
   "cell_type": "code",
   "execution_count": 44,
   "metadata": {},
   "outputs": [
    {
     "name": "stdout",
     "output_type": "stream",
     "text": [
      "SELECT Artist.Name, SUM(InvoiceLine.UnitPrice * InvoiceLine.Quantity) AS TotalSales\n",
      "FROM Artist\n",
      "JOIN Album ON Artist.ArtistId = Album.ArtistId\n",
      "JOIN Track ON Album.AlbumId = Track.AlbumId\n",
      "JOIN InvoiceLine ON Track.TrackId = InvoiceLine.TrackId\n",
      "JOIN Invoice ON InvoiceLine.InvoiceId = Invoice.InvoiceId\n",
      "GROUP BY Artist.Name\n",
      "ORDER BY TotalSales DESC\n",
      "LIMIT 10;\n"
     ]
    }
   ],
   "source": [
    "class RAG(dspy.Module):\n",
    "    def __init__(self, num_passages=3):\n",
    "        super().__init__()\n",
    "\n",
    "        self.retrieve = dspy.Retrieve(k=num_passages)\n",
    "        self.generate_sql = dspy.ChainOfThought(TextToSQLAnswer)\n",
    "\n",
    "    def forward(self, question):\n",
    "        context = self.retrieve(question).passages\n",
    "        prediction = self.generate_sql(context=context, question=question)\n",
    "        return dspy.Prediction(context=context, sql=prediction.sql)\n",
    "\n",
    "\n",
    "with dspy.context(lm=turbo, rm=rm):\n",
    "    my_question = \"Who are the top 10 selling artists and how much did each of them sold?\"\n",
    "    answer = RAG().forward(my_question)\n",
    "    print(answer.sql)"
   ]
  },
  {
   "cell_type": "code",
   "execution_count": 45,
   "metadata": {},
   "outputs": [
    {
     "data": {
      "text/html": [
       "<div>\n",
       "<style scoped>\n",
       "    .dataframe tbody tr th:only-of-type {\n",
       "        vertical-align: middle;\n",
       "    }\n",
       "\n",
       "    .dataframe tbody tr th {\n",
       "        vertical-align: top;\n",
       "    }\n",
       "\n",
       "    .dataframe thead th {\n",
       "        text-align: right;\n",
       "    }\n",
       "</style>\n",
       "<table border=\"1\" class=\"dataframe\">\n",
       "  <thead>\n",
       "    <tr style=\"text-align: right;\">\n",
       "      <th></th>\n",
       "      <th>Name</th>\n",
       "      <th>TotalSales</th>\n",
       "    </tr>\n",
       "  </thead>\n",
       "  <tbody>\n",
       "    <tr>\n",
       "      <th>0</th>\n",
       "      <td>Iron Maiden</td>\n",
       "      <td>138.60</td>\n",
       "    </tr>\n",
       "    <tr>\n",
       "      <th>1</th>\n",
       "      <td>U2</td>\n",
       "      <td>105.93</td>\n",
       "    </tr>\n",
       "    <tr>\n",
       "      <th>2</th>\n",
       "      <td>Metallica</td>\n",
       "      <td>90.09</td>\n",
       "    </tr>\n",
       "    <tr>\n",
       "      <th>3</th>\n",
       "      <td>Led Zeppelin</td>\n",
       "      <td>86.13</td>\n",
       "    </tr>\n",
       "    <tr>\n",
       "      <th>4</th>\n",
       "      <td>Lost</td>\n",
       "      <td>81.59</td>\n",
       "    </tr>\n",
       "    <tr>\n",
       "      <th>5</th>\n",
       "      <td>The Office</td>\n",
       "      <td>49.75</td>\n",
       "    </tr>\n",
       "    <tr>\n",
       "      <th>6</th>\n",
       "      <td>Os Paralamas Do Sucesso</td>\n",
       "      <td>44.55</td>\n",
       "    </tr>\n",
       "    <tr>\n",
       "      <th>7</th>\n",
       "      <td>Deep Purple</td>\n",
       "      <td>43.56</td>\n",
       "    </tr>\n",
       "    <tr>\n",
       "      <th>8</th>\n",
       "      <td>Faith No More</td>\n",
       "      <td>41.58</td>\n",
       "    </tr>\n",
       "    <tr>\n",
       "      <th>9</th>\n",
       "      <td>Eric Clapton</td>\n",
       "      <td>39.60</td>\n",
       "    </tr>\n",
       "  </tbody>\n",
       "</table>\n",
       "</div>"
      ],
      "text/plain": [
       "                      Name  TotalSales\n",
       "0              Iron Maiden      138.60\n",
       "1                       U2      105.93\n",
       "2                Metallica       90.09\n",
       "3             Led Zeppelin       86.13\n",
       "4                     Lost       81.59\n",
       "5               The Office       49.75\n",
       "6  Os Paralamas Do Sucesso       44.55\n",
       "7              Deep Purple       43.56\n",
       "8            Faith No More       41.58\n",
       "9             Eric Clapton       39.60"
      ]
     },
     "execution_count": 45,
     "metadata": {},
     "output_type": "execute_result"
    }
   ],
   "source": [
    "conn = sqlite3.connect(\"./data/Chinook.db\")\n",
    "pd.read_sql(answer.sql, conn)"
   ]
  }
 ],
 "metadata": {
  "kernelspec": {
   "display_name": "venv",
   "language": "python",
   "name": "python3"
  },
  "language_info": {
   "codemirror_mode": {
    "name": "ipython",
    "version": 3
   },
   "file_extension": ".py",
   "mimetype": "text/x-python",
   "name": "python",
   "nbconvert_exporter": "python",
   "pygments_lexer": "ipython3",
   "version": "3.11.2"
  }
 },
 "nbformat": 4,
 "nbformat_minor": 2
}
